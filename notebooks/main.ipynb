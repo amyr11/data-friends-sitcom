{
 "cells": [
  {
   "cell_type": "markdown",
   "metadata": {},
   "source": [
    "## Importing the data"
   ]
  },
  {
   "cell_type": "code",
   "execution_count": 536,
   "metadata": {},
   "outputs": [],
   "source": [
    "import pandas as pd\n",
    "import seaborn as sns\n",
    "import matplotlib.pyplot as plt\n",
    "\n",
    "sns.set(style=\"whitegrid\")\n"
   ]
  },
  {
   "cell_type": "code",
   "execution_count": 537,
   "metadata": {},
   "outputs": [
    {
     "data": {
      "text/html": [
       "<div>\n",
       "<style scoped>\n",
       "    .dataframe tbody tr th:only-of-type {\n",
       "        vertical-align: middle;\n",
       "    }\n",
       "\n",
       "    .dataframe tbody tr th {\n",
       "        vertical-align: top;\n",
       "    }\n",
       "\n",
       "    .dataframe thead th {\n",
       "        text-align: right;\n",
       "    }\n",
       "</style>\n",
       "<table border=\"1\" class=\"dataframe\">\n",
       "  <thead>\n",
       "    <tr style=\"text-align: right;\">\n",
       "      <th></th>\n",
       "      <th>Date</th>\n",
       "      <th>Episode</th>\n",
       "      <th>Title</th>\n",
       "      <th>Directed by</th>\n",
       "      <th>Written by</th>\n",
       "      <th>Duration</th>\n",
       "      <th>Summary</th>\n",
       "      <th>Rating/Share</th>\n",
       "      <th>U.S. viewers</th>\n",
       "      <th>Prod. code</th>\n",
       "    </tr>\n",
       "  </thead>\n",
       "  <tbody>\n",
       "    <tr>\n",
       "      <th>0</th>\n",
       "      <td>09/22/94</td>\n",
       "      <td>01-01</td>\n",
       "      <td>The Pilot</td>\n",
       "      <td>James Burrows</td>\n",
       "      <td>David Crane &amp; Marta Kauffman</td>\n",
       "      <td>22.0</td>\n",
       "      <td>Monica and the gang introduce Rachel to the \"r...</td>\n",
       "      <td>14.7/23</td>\n",
       "      <td>21.5 million</td>\n",
       "      <td>456650</td>\n",
       "    </tr>\n",
       "    <tr>\n",
       "      <th>1</th>\n",
       "      <td>09/29/94</td>\n",
       "      <td>01-02</td>\n",
       "      <td>The One with the Sonogram at the End</td>\n",
       "      <td>James Burrows</td>\n",
       "      <td>David Crane &amp; Marta Kauffman</td>\n",
       "      <td>22.0</td>\n",
       "      <td>Ross finds out his ex-wife is pregnant. Rachel...</td>\n",
       "      <td>14.0/22</td>\n",
       "      <td>20.2 million</td>\n",
       "      <td>456652</td>\n",
       "    </tr>\n",
       "    <tr>\n",
       "      <th>2</th>\n",
       "      <td>10/06/94</td>\n",
       "      <td>01-03</td>\n",
       "      <td>The One with the Thumb</td>\n",
       "      <td>James Burrows</td>\n",
       "      <td>Jeffrey Astrof &amp; Mike Sikowitz</td>\n",
       "      <td>22.0</td>\n",
       "      <td>Monica becomes irritated when everyone likes h...</td>\n",
       "      <td>13.6/22</td>\n",
       "      <td>19.5 million</td>\n",
       "      <td>456651</td>\n",
       "    </tr>\n",
       "    <tr>\n",
       "      <th>3</th>\n",
       "      <td>10/13/94</td>\n",
       "      <td>01-04</td>\n",
       "      <td>The One with George Stephanopoulos</td>\n",
       "      <td>James Burrows</td>\n",
       "      <td>Alexa Junge</td>\n",
       "      <td>22.0</td>\n",
       "      <td>Joey and Chandler take Ross to a hockey game t...</td>\n",
       "      <td>13.7/22</td>\n",
       "      <td>19.7 million</td>\n",
       "      <td>456654</td>\n",
       "    </tr>\n",
       "    <tr>\n",
       "      <th>4</th>\n",
       "      <td>10/20/94</td>\n",
       "      <td>01-05</td>\n",
       "      <td>The One with the East German Laundry Detergent</td>\n",
       "      <td>Pamela Fryman</td>\n",
       "      <td>Jeff Greenstein &amp; Jeff Strauss</td>\n",
       "      <td>22.0</td>\n",
       "      <td>Eager to spend time with Rachel, Ross pretends...</td>\n",
       "      <td>12.9/20</td>\n",
       "      <td>18.6 million</td>\n",
       "      <td>456653</td>\n",
       "    </tr>\n",
       "    <tr>\n",
       "      <th>5</th>\n",
       "      <td>10/27/94</td>\n",
       "      <td>01-06</td>\n",
       "      <td>The One with the Butt</td>\n",
       "      <td>Arlene Sanford</td>\n",
       "      <td>Adam Chase &amp; Ira Ungerleider</td>\n",
       "      <td>22.0</td>\n",
       "      <td>Monica's obsessiveness is put to the test afte...</td>\n",
       "      <td>12.4/20</td>\n",
       "      <td>18.2 million</td>\n",
       "      <td>456655</td>\n",
       "    </tr>\n",
       "    <tr>\n",
       "      <th>6</th>\n",
       "      <td>11/03/94</td>\n",
       "      <td>01-07</td>\n",
       "      <td>The One with the Blackout</td>\n",
       "      <td>James Burrows</td>\n",
       "      <td>Jeffrey Astrof &amp; Mike Sikowitz</td>\n",
       "      <td>22.0</td>\n",
       "      <td>When New York suffers from a blackout, Ross tr...</td>\n",
       "      <td>16.1/24</td>\n",
       "      <td>23.5 million</td>\n",
       "      <td>456656</td>\n",
       "    </tr>\n",
       "    <tr>\n",
       "      <th>7</th>\n",
       "      <td>11/10/94</td>\n",
       "      <td>01-08</td>\n",
       "      <td>The One Where Nana Dies Twice</td>\n",
       "      <td>James Burrows</td>\n",
       "      <td>Marta Kauffman &amp; David Crane</td>\n",
       "      <td>22.0</td>\n",
       "      <td>Monica and Ross mourn the loss of their grandm...</td>\n",
       "      <td>14.2/22</td>\n",
       "      <td>21.1 million</td>\n",
       "      <td>456657</td>\n",
       "    </tr>\n",
       "    <tr>\n",
       "      <th>8</th>\n",
       "      <td>11/17/94</td>\n",
       "      <td>01-09</td>\n",
       "      <td>The One Where Underdog Gets Away</td>\n",
       "      <td>James Burrows</td>\n",
       "      <td>Jeff Greenstein &amp; Jeff Strauss</td>\n",
       "      <td>22.0</td>\n",
       "      <td>The gang's plans for Thanksgiving go awry afte...</td>\n",
       "      <td>15.7/24</td>\n",
       "      <td>23.1 million</td>\n",
       "      <td>456659</td>\n",
       "    </tr>\n",
       "    <tr>\n",
       "      <th>9</th>\n",
       "      <td>12/15/94</td>\n",
       "      <td>01-10</td>\n",
       "      <td>The One with the Monkey</td>\n",
       "      <td>Peter Bonerz</td>\n",
       "      <td>Adam Chase &amp; Ira Ungerleider</td>\n",
       "      <td>22.0</td>\n",
       "      <td>The gang make (and break) a pact not to bring ...</td>\n",
       "      <td>13.6/22</td>\n",
       "      <td>19.9 million</td>\n",
       "      <td>456661</td>\n",
       "    </tr>\n",
       "  </tbody>\n",
       "</table>\n",
       "</div>"
      ],
      "text/plain": [
       "       Date Episode                                           Title  \\\n",
       "0  09/22/94   01-01                                       The Pilot   \n",
       "1  09/29/94   01-02            The One with the Sonogram at the End   \n",
       "2  10/06/94   01-03                          The One with the Thumb   \n",
       "3  10/13/94   01-04              The One with George Stephanopoulos   \n",
       "4  10/20/94   01-05  The One with the East German Laundry Detergent   \n",
       "5  10/27/94   01-06                           The One with the Butt   \n",
       "6  11/03/94   01-07                       The One with the Blackout   \n",
       "7  11/10/94   01-08                   The One Where Nana Dies Twice   \n",
       "8  11/17/94   01-09                The One Where Underdog Gets Away   \n",
       "9  12/15/94   01-10                         The One with the Monkey   \n",
       "\n",
       "      Directed by                      Written by  Duration  \\\n",
       "0   James Burrows    David Crane & Marta Kauffman      22.0   \n",
       "1   James Burrows    David Crane & Marta Kauffman      22.0   \n",
       "2   James Burrows  Jeffrey Astrof & Mike Sikowitz      22.0   \n",
       "3   James Burrows                     Alexa Junge      22.0   \n",
       "4   Pamela Fryman  Jeff Greenstein & Jeff Strauss      22.0   \n",
       "5  Arlene Sanford    Adam Chase & Ira Ungerleider      22.0   \n",
       "6   James Burrows  Jeffrey Astrof & Mike Sikowitz      22.0   \n",
       "7   James Burrows    Marta Kauffman & David Crane      22.0   \n",
       "8   James Burrows  Jeff Greenstein & Jeff Strauss      22.0   \n",
       "9    Peter Bonerz    Adam Chase & Ira Ungerleider      22.0   \n",
       "\n",
       "                                             Summary Rating/Share  \\\n",
       "0  Monica and the gang introduce Rachel to the \"r...      14.7/23   \n",
       "1  Ross finds out his ex-wife is pregnant. Rachel...      14.0/22   \n",
       "2  Monica becomes irritated when everyone likes h...      13.6/22   \n",
       "3  Joey and Chandler take Ross to a hockey game t...      13.7/22   \n",
       "4  Eager to spend time with Rachel, Ross pretends...      12.9/20   \n",
       "5  Monica's obsessiveness is put to the test afte...      12.4/20   \n",
       "6  When New York suffers from a blackout, Ross tr...      16.1/24   \n",
       "7  Monica and Ross mourn the loss of their grandm...      14.2/22   \n",
       "8  The gang's plans for Thanksgiving go awry afte...      15.7/24   \n",
       "9  The gang make (and break) a pact not to bring ...      13.6/22   \n",
       "\n",
       "   U.S. viewers Prod. code  \n",
       "0  21.5 million     456650  \n",
       "1  20.2 million     456652  \n",
       "2  19.5 million     456651  \n",
       "3  19.7 million     456654  \n",
       "4  18.6 million     456653  \n",
       "5  18.2 million     456655  \n",
       "6  23.5 million     456656  \n",
       "7  21.1 million     456657  \n",
       "8  23.1 million     456659  \n",
       "9  19.9 million     456661  "
      ]
     },
     "execution_count": 537,
     "metadata": {},
     "output_type": "execute_result"
    }
   ],
   "source": [
    "friends_df = pd.read_csv('../data/friends_info.csv')\n",
    "friends_df.head(10)"
   ]
  },
  {
   "cell_type": "markdown",
   "metadata": {},
   "source": [
    "## Explore data"
   ]
  },
  {
   "cell_type": "code",
   "execution_count": 538,
   "metadata": {},
   "outputs": [
    {
     "data": {
      "text/plain": [
       "(229, 10)"
      ]
     },
     "execution_count": 538,
     "metadata": {},
     "output_type": "execute_result"
    }
   ],
   "source": [
    "friends_df.shape"
   ]
  },
  {
   "cell_type": "code",
   "execution_count": 539,
   "metadata": {},
   "outputs": [
    {
     "data": {
      "text/plain": [
       "Date            0\n",
       "Episode         0\n",
       "Title           0\n",
       "Directed by     2\n",
       "Written by      2\n",
       "Duration        2\n",
       "Summary         2\n",
       "Rating/Share    0\n",
       "U.S. viewers    0\n",
       "Prod. code      2\n",
       "dtype: int64"
      ]
     },
     "execution_count": 539,
     "metadata": {},
     "output_type": "execute_result"
    }
   ],
   "source": [
    "friends_df.isna().sum()"
   ]
  },
  {
   "cell_type": "code",
   "execution_count": 540,
   "metadata": {},
   "outputs": [
    {
     "data": {
      "text/html": [
       "<div>\n",
       "<style scoped>\n",
       "    .dataframe tbody tr th:only-of-type {\n",
       "        vertical-align: middle;\n",
       "    }\n",
       "\n",
       "    .dataframe tbody tr th {\n",
       "        vertical-align: top;\n",
       "    }\n",
       "\n",
       "    .dataframe thead th {\n",
       "        text-align: right;\n",
       "    }\n",
       "</style>\n",
       "<table border=\"1\" class=\"dataframe\">\n",
       "  <thead>\n",
       "    <tr style=\"text-align: right;\">\n",
       "      <th></th>\n",
       "      <th>Date</th>\n",
       "      <th>Episode</th>\n",
       "      <th>Title</th>\n",
       "      <th>Directed by</th>\n",
       "      <th>Written by</th>\n",
       "      <th>Duration</th>\n",
       "      <th>Summary</th>\n",
       "      <th>Rating/Share</th>\n",
       "      <th>U.S. viewers</th>\n",
       "      <th>Prod. code</th>\n",
       "    </tr>\n",
       "  </thead>\n",
       "  <tbody>\n",
       "    <tr>\n",
       "      <th>156</th>\n",
       "      <td>02/15/01</td>\n",
       "      <td>Special</td>\n",
       "      <td>Friends: The Stuff You've Never Seen</td>\n",
       "      <td>NaN</td>\n",
       "      <td>NaN</td>\n",
       "      <td>NaN</td>\n",
       "      <td>NaN</td>\n",
       "      <td>14.4/21</td>\n",
       "      <td>22.50 million</td>\n",
       "      <td>NaN</td>\n",
       "    </tr>\n",
       "    <tr>\n",
       "      <th>227</th>\n",
       "      <td>05/06/04</td>\n",
       "      <td>Special</td>\n",
       "      <td>The One Before the Last One:\\r\\nTen Years of F...</td>\n",
       "      <td>NaN</td>\n",
       "      <td>NaN</td>\n",
       "      <td>NaN</td>\n",
       "      <td>NaN</td>\n",
       "      <td>22.0/35</td>\n",
       "      <td>36.89 million</td>\n",
       "      <td>NaN</td>\n",
       "    </tr>\n",
       "  </tbody>\n",
       "</table>\n",
       "</div>"
      ],
      "text/plain": [
       "         Date  Episode                                              Title  \\\n",
       "156  02/15/01  Special               Friends: The Stuff You've Never Seen   \n",
       "227  05/06/04  Special  The One Before the Last One:\\r\\nTen Years of F...   \n",
       "\n",
       "    Directed by Written by  Duration Summary Rating/Share   U.S. viewers  \\\n",
       "156         NaN        NaN       NaN     NaN      14.4/21  22.50 million   \n",
       "227         NaN        NaN       NaN     NaN      22.0/35  36.89 million   \n",
       "\n",
       "    Prod. code  \n",
       "156        NaN  \n",
       "227        NaN  "
      ]
     },
     "execution_count": 540,
     "metadata": {},
     "output_type": "execute_result"
    }
   ],
   "source": [
    "friends_null = friends_df[friends_df.isna().any(axis=1)]\n",
    "friends_null"
   ]
  },
  {
   "cell_type": "code",
   "execution_count": 541,
   "metadata": {},
   "outputs": [
    {
     "data": {
      "text/html": [
       "<div>\n",
       "<style scoped>\n",
       "    .dataframe tbody tr th:only-of-type {\n",
       "        vertical-align: middle;\n",
       "    }\n",
       "\n",
       "    .dataframe tbody tr th {\n",
       "        vertical-align: top;\n",
       "    }\n",
       "\n",
       "    .dataframe thead th {\n",
       "        text-align: right;\n",
       "    }\n",
       "</style>\n",
       "<table border=\"1\" class=\"dataframe\">\n",
       "  <thead>\n",
       "    <tr style=\"text-align: right;\">\n",
       "      <th></th>\n",
       "      <th>Date</th>\n",
       "      <th>Episode</th>\n",
       "      <th>Title</th>\n",
       "      <th>Directed by</th>\n",
       "      <th>Written by</th>\n",
       "      <th>Duration</th>\n",
       "      <th>Summary</th>\n",
       "      <th>Rating/Share</th>\n",
       "      <th>U.S. viewers</th>\n",
       "      <th>Prod. code</th>\n",
       "    </tr>\n",
       "  </thead>\n",
       "  <tbody>\n",
       "    <tr>\n",
       "      <th>156</th>\n",
       "      <td>02/15/01</td>\n",
       "      <td>Special</td>\n",
       "      <td>Friends: The Stuff You've Never Seen</td>\n",
       "      <td>NaN</td>\n",
       "      <td>NaN</td>\n",
       "      <td>NaN</td>\n",
       "      <td>NaN</td>\n",
       "      <td>14.4/21</td>\n",
       "      <td>22.50 million</td>\n",
       "      <td>NaN</td>\n",
       "    </tr>\n",
       "    <tr>\n",
       "      <th>227</th>\n",
       "      <td>05/06/04</td>\n",
       "      <td>Special</td>\n",
       "      <td>The One Before the Last One:\\r\\nTen Years of F...</td>\n",
       "      <td>NaN</td>\n",
       "      <td>NaN</td>\n",
       "      <td>NaN</td>\n",
       "      <td>NaN</td>\n",
       "      <td>22.0/35</td>\n",
       "      <td>36.89 million</td>\n",
       "      <td>NaN</td>\n",
       "    </tr>\n",
       "  </tbody>\n",
       "</table>\n",
       "</div>"
      ],
      "text/plain": [
       "         Date  Episode                                              Title  \\\n",
       "156  02/15/01  Special               Friends: The Stuff You've Never Seen   \n",
       "227  05/06/04  Special  The One Before the Last One:\\r\\nTen Years of F...   \n",
       "\n",
       "    Directed by Written by  Duration Summary Rating/Share   U.S. viewers  \\\n",
       "156         NaN        NaN       NaN     NaN      14.4/21  22.50 million   \n",
       "227         NaN        NaN       NaN     NaN      22.0/35  36.89 million   \n",
       "\n",
       "    Prod. code  \n",
       "156        NaN  \n",
       "227        NaN  "
      ]
     },
     "execution_count": 541,
     "metadata": {},
     "output_type": "execute_result"
    }
   ],
   "source": [
    "friends_special = friends_df[friends_df['Episode'] == 'Special']\n",
    "friends_special\n"
   ]
  },
  {
   "cell_type": "code",
   "execution_count": 542,
   "metadata": {},
   "outputs": [
    {
     "data": {
      "text/plain": [
       "Date             object\n",
       "Episode          object\n",
       "Title            object\n",
       "Directed by      object\n",
       "Written by       object\n",
       "Duration        float64\n",
       "Summary          object\n",
       "Rating/Share     object\n",
       "U.S. viewers     object\n",
       "Prod. code       object\n",
       "dtype: object"
      ]
     },
     "execution_count": 542,
     "metadata": {},
     "output_type": "execute_result"
    }
   ],
   "source": [
    "friends_df.dtypes"
   ]
  },
  {
   "cell_type": "markdown",
   "metadata": {},
   "source": [
    "## Cleaning and transforming the data"
   ]
  },
  {
   "cell_type": "markdown",
   "metadata": {},
   "source": [
    "### Drop unnecessary columns"
   ]
  },
  {
   "cell_type": "code",
   "execution_count": 543,
   "metadata": {},
   "outputs": [
    {
     "data": {
      "text/plain": [
       "Index(['Date', 'Episode', 'Title', 'Directed by', 'Written by', 'Duration',\n",
       "       'Summary', 'Rating/Share', 'U.S. viewers'],\n",
       "      dtype='object')"
      ]
     },
     "execution_count": 543,
     "metadata": {},
     "output_type": "execute_result"
    }
   ],
   "source": [
    "friends_df.drop(columns=['Prod. code'], inplace=True)\n",
    "friends_df.columns"
   ]
  },
  {
   "cell_type": "markdown",
   "metadata": {},
   "source": [
    "### Drop 2 special episodes because of missing values"
   ]
  },
  {
   "cell_type": "code",
   "execution_count": 544,
   "metadata": {},
   "outputs": [
    {
     "data": {
      "text/plain": [
       "Date            0\n",
       "Episode         0\n",
       "Title           0\n",
       "Directed by     0\n",
       "Written by      0\n",
       "Duration        0\n",
       "Summary         0\n",
       "Rating/Share    0\n",
       "U.S. viewers    0\n",
       "dtype: int64"
      ]
     },
     "execution_count": 544,
     "metadata": {},
     "output_type": "execute_result"
    }
   ],
   "source": [
    "friends_df.drop(friends_df[friends_df['Episode'] == 'Special'].index.values, axis=0, inplace=True)\n",
    "friends_df.isna().sum()"
   ]
  },
  {
   "cell_type": "markdown",
   "metadata": {},
   "source": [
    "### Cleaning column values"
   ]
  },
  {
   "cell_type": "code",
   "execution_count": 545,
   "metadata": {},
   "outputs": [
    {
     "name": "stdout",
     "output_type": "stream",
     "text": [
      "Number of rows with two episodes: 9\n"
     ]
    }
   ],
   "source": [
    "bad_values = friends_df['Episode'].str.contains('\\n')\n",
    "print('Number of rows with two episodes: {}'.format(\n",
    "    len(friends_df[bad_values])))"
   ]
  },
  {
   "cell_type": "code",
   "execution_count": 546,
   "metadata": {},
   "outputs": [
    {
     "data": {
      "text/html": [
       "<div>\n",
       "<style scoped>\n",
       "    .dataframe tbody tr th:only-of-type {\n",
       "        vertical-align: middle;\n",
       "    }\n",
       "\n",
       "    .dataframe tbody tr th {\n",
       "        vertical-align: top;\n",
       "    }\n",
       "\n",
       "    .dataframe thead th {\n",
       "        text-align: right;\n",
       "    }\n",
       "</style>\n",
       "<table border=\"1\" class=\"dataframe\">\n",
       "  <thead>\n",
       "    <tr style=\"text-align: right;\">\n",
       "      <th></th>\n",
       "      <th>Date</th>\n",
       "      <th>Episode</th>\n",
       "      <th>Title</th>\n",
       "      <th>Directed by</th>\n",
       "      <th>Written by</th>\n",
       "      <th>Duration</th>\n",
       "      <th>Summary</th>\n",
       "      <th>Rating/Share</th>\n",
       "      <th>U.S. viewers</th>\n",
       "    </tr>\n",
       "  </thead>\n",
       "  <tbody>\n",
       "    <tr>\n",
       "      <th>35</th>\n",
       "      <td>01/28/96</td>\n",
       "      <td>02-12\\r\\n02-13</td>\n",
       "      <td>The One After the Super Bowl</td>\n",
       "      <td>Michael Lembeck</td>\n",
       "      <td>Jeffrey Astrof &amp; Mike SikowitzMichael Borkow</td>\n",
       "      <td>44.0</td>\n",
       "      <td>Ross goes to visit Marcel whilst on a trip to ...</td>\n",
       "      <td>29.6/46</td>\n",
       "      <td>52.9 million</td>\n",
       "    </tr>\n",
       "    <tr>\n",
       "      <th>94</th>\n",
       "      <td>05/07/98</td>\n",
       "      <td>04-23\\r\\n04-24</td>\n",
       "      <td>The One with Ross's Wedding</td>\n",
       "      <td>Kevin S. Bright</td>\n",
       "      <td>Michael BorkowStory by : Jill Condon &amp; Amy Too...</td>\n",
       "      <td>60.0</td>\n",
       "      <td>Phoebe tries to help Rachel deal with her feel...</td>\n",
       "      <td>21.2/35</td>\n",
       "      <td>31.6 million</td>\n",
       "    </tr>\n",
       "    <tr>\n",
       "      <th>117</th>\n",
       "      <td>05/20/99</td>\n",
       "      <td>05-23\\r\\n05-24</td>\n",
       "      <td>The One in Vegas</td>\n",
       "      <td>Kevin S. Bright</td>\n",
       "      <td>Ted Cohen &amp; Andrew ReichGregory S. Malins &amp; Sc...</td>\n",
       "      <td>44.0</td>\n",
       "      <td>The gang go to Las Vegas to visit Joey. Chandl...</td>\n",
       "      <td>17.0/29</td>\n",
       "      <td>25.9 million</td>\n",
       "    </tr>\n",
       "    <tr>\n",
       "      <th>132</th>\n",
       "      <td>02/17/00</td>\n",
       "      <td>06-15\\r\\n06-16</td>\n",
       "      <td>The One That Could Have Been</td>\n",
       "      <td>Michael Lembeck</td>\n",
       "      <td>Gregory S. Malins &amp; Adam ChaseDavid Crane &amp; Ma...</td>\n",
       "      <td>60.0</td>\n",
       "      <td>When Rachel hears Barry and Mindy are getting ...</td>\n",
       "      <td>16.7/26</td>\n",
       "      <td>20.7 million</td>\n",
       "    </tr>\n",
       "    <tr>\n",
       "      <th>140</th>\n",
       "      <td>05/18/00</td>\n",
       "      <td>06-24\\r\\n06-25</td>\n",
       "      <td>The One with the Proposal</td>\n",
       "      <td>Kevin S. Bright</td>\n",
       "      <td>Shana Goldberg-Meehan &amp; Scott SilveriAndrew Re...</td>\n",
       "      <td>60.0</td>\n",
       "      <td>Chandler's plan to propose to Monica at dinner...</td>\n",
       "      <td>20.0/32</td>\n",
       "      <td>30.7 million</td>\n",
       "    </tr>\n",
       "    <tr>\n",
       "      <th>164</th>\n",
       "      <td>05/17/01</td>\n",
       "      <td>07-23\\r\\n07-24</td>\n",
       "      <td>The One with Monica and Chandler's Wedding</td>\n",
       "      <td>Kevin S. Bright</td>\n",
       "      <td>Gregory S. MalinsMarta Kauffman &amp; David Crane</td>\n",
       "      <td>44.0</td>\n",
       "      <td>So close to the wedding, Chandler suddenly rea...</td>\n",
       "      <td>18.7/31</td>\n",
       "      <td>30.05 million</td>\n",
       "    </tr>\n",
       "    <tr>\n",
       "      <th>187</th>\n",
       "      <td>05/16/02</td>\n",
       "      <td>08-23\\r\\n08-24</td>\n",
       "      <td>The One Where Rachel Has a Baby</td>\n",
       "      <td>Kevin S. Bright</td>\n",
       "      <td>Scott SilveriMarta Kauffman &amp; David Crane</td>\n",
       "      <td>44.0</td>\n",
       "      <td>Ross and Rachel go to the hospital to have the...</td>\n",
       "      <td>21.1/34</td>\n",
       "      <td>34.91 million</td>\n",
       "    </tr>\n",
       "    <tr>\n",
       "      <th>210</th>\n",
       "      <td>05/15/03</td>\n",
       "      <td>09-23\\r\\n09-24</td>\n",
       "      <td>The One in Barbados</td>\n",
       "      <td>Kevin S. Bright</td>\n",
       "      <td>Shana Goldberg-Meehan &amp; Scott SilveriMarta Kau...</td>\n",
       "      <td>44.0</td>\n",
       "      <td>Chandler gives advice to David, but that makes...</td>\n",
       "      <td>16.0/26</td>\n",
       "      <td>25.46 million</td>\n",
       "    </tr>\n",
       "    <tr>\n",
       "      <th>228</th>\n",
       "      <td>05/06/04</td>\n",
       "      <td>10-17\\r\\n10-18</td>\n",
       "      <td>The Last One</td>\n",
       "      <td>Kevin S. Bright</td>\n",
       "      <td>Marta Kauffman &amp; David Crane</td>\n",
       "      <td>60.0</td>\n",
       "      <td>Erica gives birth to the baby that Monica and ...</td>\n",
       "      <td>29.8/43</td>\n",
       "      <td>52.46 million</td>\n",
       "    </tr>\n",
       "  </tbody>\n",
       "</table>\n",
       "</div>"
      ],
      "text/plain": [
       "         Date         Episode                                       Title  \\\n",
       "35   01/28/96  02-12\\r\\n02-13                The One After the Super Bowl   \n",
       "94   05/07/98  04-23\\r\\n04-24                 The One with Ross's Wedding   \n",
       "117  05/20/99  05-23\\r\\n05-24                            The One in Vegas   \n",
       "132  02/17/00  06-15\\r\\n06-16                The One That Could Have Been   \n",
       "140  05/18/00  06-24\\r\\n06-25                   The One with the Proposal   \n",
       "164  05/17/01  07-23\\r\\n07-24  The One with Monica and Chandler's Wedding   \n",
       "187  05/16/02  08-23\\r\\n08-24             The One Where Rachel Has a Baby   \n",
       "210  05/15/03  09-23\\r\\n09-24                         The One in Barbados   \n",
       "228  05/06/04  10-17\\r\\n10-18                                The Last One   \n",
       "\n",
       "         Directed by                                         Written by  \\\n",
       "35   Michael Lembeck       Jeffrey Astrof & Mike SikowitzMichael Borkow   \n",
       "94   Kevin S. Bright  Michael BorkowStory by : Jill Condon & Amy Too...   \n",
       "117  Kevin S. Bright  Ted Cohen & Andrew ReichGregory S. Malins & Sc...   \n",
       "132  Michael Lembeck  Gregory S. Malins & Adam ChaseDavid Crane & Ma...   \n",
       "140  Kevin S. Bright  Shana Goldberg-Meehan & Scott SilveriAndrew Re...   \n",
       "164  Kevin S. Bright      Gregory S. MalinsMarta Kauffman & David Crane   \n",
       "187  Kevin S. Bright          Scott SilveriMarta Kauffman & David Crane   \n",
       "210  Kevin S. Bright  Shana Goldberg-Meehan & Scott SilveriMarta Kau...   \n",
       "228  Kevin S. Bright                       Marta Kauffman & David Crane   \n",
       "\n",
       "     Duration                                            Summary Rating/Share  \\\n",
       "35       44.0  Ross goes to visit Marcel whilst on a trip to ...      29.6/46   \n",
       "94       60.0  Phoebe tries to help Rachel deal with her feel...      21.2/35   \n",
       "117      44.0  The gang go to Las Vegas to visit Joey. Chandl...      17.0/29   \n",
       "132      60.0  When Rachel hears Barry and Mindy are getting ...      16.7/26   \n",
       "140      60.0  Chandler's plan to propose to Monica at dinner...      20.0/32   \n",
       "164      44.0  So close to the wedding, Chandler suddenly rea...      18.7/31   \n",
       "187      44.0  Ross and Rachel go to the hospital to have the...      21.1/34   \n",
       "210      44.0  Chandler gives advice to David, but that makes...      16.0/26   \n",
       "228      60.0  Erica gives birth to the baby that Monica and ...      29.8/43   \n",
       "\n",
       "      U.S. viewers  \n",
       "35    52.9 million  \n",
       "94    31.6 million  \n",
       "117   25.9 million  \n",
       "132   20.7 million  \n",
       "140   30.7 million  \n",
       "164  30.05 million  \n",
       "187  34.91 million  \n",
       "210  25.46 million  \n",
       "228  52.46 million  "
      ]
     },
     "execution_count": 546,
     "metadata": {},
     "output_type": "execute_result"
    }
   ],
   "source": [
    "friends_df[bad_values]"
   ]
  },
  {
   "cell_type": "markdown",
   "metadata": {},
   "source": [
    "### Episodes with 2 parts are contained on one row only\n",
    "We found out that the 7 missing episodes are not actually missing, they are a part of episodes with 2 parts."
   ]
  },
  {
   "cell_type": "markdown",
   "metadata": {},
   "source": [
    "#### Create a new column called \"2 Parts\"\n",
    "A value of 1 means the episode has 2 parts, 0 if not."
   ]
  },
  {
   "cell_type": "code",
   "execution_count": 547,
   "metadata": {},
   "outputs": [
    {
     "data": {
      "text/html": [
       "<div>\n",
       "<style scoped>\n",
       "    .dataframe tbody tr th:only-of-type {\n",
       "        vertical-align: middle;\n",
       "    }\n",
       "\n",
       "    .dataframe tbody tr th {\n",
       "        vertical-align: top;\n",
       "    }\n",
       "\n",
       "    .dataframe thead th {\n",
       "        text-align: right;\n",
       "    }\n",
       "</style>\n",
       "<table border=\"1\" class=\"dataframe\">\n",
       "  <thead>\n",
       "    <tr style=\"text-align: right;\">\n",
       "      <th></th>\n",
       "      <th>Date</th>\n",
       "      <th>Episode</th>\n",
       "      <th>Title</th>\n",
       "      <th>Directed by</th>\n",
       "      <th>Written by</th>\n",
       "      <th>Duration</th>\n",
       "      <th>Summary</th>\n",
       "      <th>Rating/Share</th>\n",
       "      <th>U.S. viewers</th>\n",
       "      <th>2 Parts</th>\n",
       "    </tr>\n",
       "  </thead>\n",
       "  <tbody>\n",
       "    <tr>\n",
       "      <th>35</th>\n",
       "      <td>01/28/96</td>\n",
       "      <td>02-12\\r\\n02-13</td>\n",
       "      <td>The One After the Super Bowl</td>\n",
       "      <td>Michael Lembeck</td>\n",
       "      <td>Jeffrey Astrof &amp; Mike SikowitzMichael Borkow</td>\n",
       "      <td>44.0</td>\n",
       "      <td>Ross goes to visit Marcel whilst on a trip to ...</td>\n",
       "      <td>29.6/46</td>\n",
       "      <td>52.9 million</td>\n",
       "      <td>1</td>\n",
       "    </tr>\n",
       "    <tr>\n",
       "      <th>94</th>\n",
       "      <td>05/07/98</td>\n",
       "      <td>04-23\\r\\n04-24</td>\n",
       "      <td>The One with Ross's Wedding</td>\n",
       "      <td>Kevin S. Bright</td>\n",
       "      <td>Michael BorkowStory by : Jill Condon &amp; Amy Too...</td>\n",
       "      <td>60.0</td>\n",
       "      <td>Phoebe tries to help Rachel deal with her feel...</td>\n",
       "      <td>21.2/35</td>\n",
       "      <td>31.6 million</td>\n",
       "      <td>1</td>\n",
       "    </tr>\n",
       "    <tr>\n",
       "      <th>117</th>\n",
       "      <td>05/20/99</td>\n",
       "      <td>05-23\\r\\n05-24</td>\n",
       "      <td>The One in Vegas</td>\n",
       "      <td>Kevin S. Bright</td>\n",
       "      <td>Ted Cohen &amp; Andrew ReichGregory S. Malins &amp; Sc...</td>\n",
       "      <td>44.0</td>\n",
       "      <td>The gang go to Las Vegas to visit Joey. Chandl...</td>\n",
       "      <td>17.0/29</td>\n",
       "      <td>25.9 million</td>\n",
       "      <td>1</td>\n",
       "    </tr>\n",
       "    <tr>\n",
       "      <th>132</th>\n",
       "      <td>02/17/00</td>\n",
       "      <td>06-15\\r\\n06-16</td>\n",
       "      <td>The One That Could Have Been</td>\n",
       "      <td>Michael Lembeck</td>\n",
       "      <td>Gregory S. Malins &amp; Adam ChaseDavid Crane &amp; Ma...</td>\n",
       "      <td>60.0</td>\n",
       "      <td>When Rachel hears Barry and Mindy are getting ...</td>\n",
       "      <td>16.7/26</td>\n",
       "      <td>20.7 million</td>\n",
       "      <td>1</td>\n",
       "    </tr>\n",
       "    <tr>\n",
       "      <th>140</th>\n",
       "      <td>05/18/00</td>\n",
       "      <td>06-24\\r\\n06-25</td>\n",
       "      <td>The One with the Proposal</td>\n",
       "      <td>Kevin S. Bright</td>\n",
       "      <td>Shana Goldberg-Meehan &amp; Scott SilveriAndrew Re...</td>\n",
       "      <td>60.0</td>\n",
       "      <td>Chandler's plan to propose to Monica at dinner...</td>\n",
       "      <td>20.0/32</td>\n",
       "      <td>30.7 million</td>\n",
       "      <td>1</td>\n",
       "    </tr>\n",
       "    <tr>\n",
       "      <th>164</th>\n",
       "      <td>05/17/01</td>\n",
       "      <td>07-23\\r\\n07-24</td>\n",
       "      <td>The One with Monica and Chandler's Wedding</td>\n",
       "      <td>Kevin S. Bright</td>\n",
       "      <td>Gregory S. MalinsMarta Kauffman &amp; David Crane</td>\n",
       "      <td>44.0</td>\n",
       "      <td>So close to the wedding, Chandler suddenly rea...</td>\n",
       "      <td>18.7/31</td>\n",
       "      <td>30.05 million</td>\n",
       "      <td>1</td>\n",
       "    </tr>\n",
       "    <tr>\n",
       "      <th>187</th>\n",
       "      <td>05/16/02</td>\n",
       "      <td>08-23\\r\\n08-24</td>\n",
       "      <td>The One Where Rachel Has a Baby</td>\n",
       "      <td>Kevin S. Bright</td>\n",
       "      <td>Scott SilveriMarta Kauffman &amp; David Crane</td>\n",
       "      <td>44.0</td>\n",
       "      <td>Ross and Rachel go to the hospital to have the...</td>\n",
       "      <td>21.1/34</td>\n",
       "      <td>34.91 million</td>\n",
       "      <td>1</td>\n",
       "    </tr>\n",
       "    <tr>\n",
       "      <th>210</th>\n",
       "      <td>05/15/03</td>\n",
       "      <td>09-23\\r\\n09-24</td>\n",
       "      <td>The One in Barbados</td>\n",
       "      <td>Kevin S. Bright</td>\n",
       "      <td>Shana Goldberg-Meehan &amp; Scott SilveriMarta Kau...</td>\n",
       "      <td>44.0</td>\n",
       "      <td>Chandler gives advice to David, but that makes...</td>\n",
       "      <td>16.0/26</td>\n",
       "      <td>25.46 million</td>\n",
       "      <td>1</td>\n",
       "    </tr>\n",
       "    <tr>\n",
       "      <th>228</th>\n",
       "      <td>05/06/04</td>\n",
       "      <td>10-17\\r\\n10-18</td>\n",
       "      <td>The Last One</td>\n",
       "      <td>Kevin S. Bright</td>\n",
       "      <td>Marta Kauffman &amp; David Crane</td>\n",
       "      <td>60.0</td>\n",
       "      <td>Erica gives birth to the baby that Monica and ...</td>\n",
       "      <td>29.8/43</td>\n",
       "      <td>52.46 million</td>\n",
       "      <td>1</td>\n",
       "    </tr>\n",
       "  </tbody>\n",
       "</table>\n",
       "</div>"
      ],
      "text/plain": [
       "         Date         Episode                                       Title  \\\n",
       "35   01/28/96  02-12\\r\\n02-13                The One After the Super Bowl   \n",
       "94   05/07/98  04-23\\r\\n04-24                 The One with Ross's Wedding   \n",
       "117  05/20/99  05-23\\r\\n05-24                            The One in Vegas   \n",
       "132  02/17/00  06-15\\r\\n06-16                The One That Could Have Been   \n",
       "140  05/18/00  06-24\\r\\n06-25                   The One with the Proposal   \n",
       "164  05/17/01  07-23\\r\\n07-24  The One with Monica and Chandler's Wedding   \n",
       "187  05/16/02  08-23\\r\\n08-24             The One Where Rachel Has a Baby   \n",
       "210  05/15/03  09-23\\r\\n09-24                         The One in Barbados   \n",
       "228  05/06/04  10-17\\r\\n10-18                                The Last One   \n",
       "\n",
       "         Directed by                                         Written by  \\\n",
       "35   Michael Lembeck       Jeffrey Astrof & Mike SikowitzMichael Borkow   \n",
       "94   Kevin S. Bright  Michael BorkowStory by : Jill Condon & Amy Too...   \n",
       "117  Kevin S. Bright  Ted Cohen & Andrew ReichGregory S. Malins & Sc...   \n",
       "132  Michael Lembeck  Gregory S. Malins & Adam ChaseDavid Crane & Ma...   \n",
       "140  Kevin S. Bright  Shana Goldberg-Meehan & Scott SilveriAndrew Re...   \n",
       "164  Kevin S. Bright      Gregory S. MalinsMarta Kauffman & David Crane   \n",
       "187  Kevin S. Bright          Scott SilveriMarta Kauffman & David Crane   \n",
       "210  Kevin S. Bright  Shana Goldberg-Meehan & Scott SilveriMarta Kau...   \n",
       "228  Kevin S. Bright                       Marta Kauffman & David Crane   \n",
       "\n",
       "     Duration                                            Summary Rating/Share  \\\n",
       "35       44.0  Ross goes to visit Marcel whilst on a trip to ...      29.6/46   \n",
       "94       60.0  Phoebe tries to help Rachel deal with her feel...      21.2/35   \n",
       "117      44.0  The gang go to Las Vegas to visit Joey. Chandl...      17.0/29   \n",
       "132      60.0  When Rachel hears Barry and Mindy are getting ...      16.7/26   \n",
       "140      60.0  Chandler's plan to propose to Monica at dinner...      20.0/32   \n",
       "164      44.0  So close to the wedding, Chandler suddenly rea...      18.7/31   \n",
       "187      44.0  Ross and Rachel go to the hospital to have the...      21.1/34   \n",
       "210      44.0  Chandler gives advice to David, but that makes...      16.0/26   \n",
       "228      60.0  Erica gives birth to the baby that Monica and ...      29.8/43   \n",
       "\n",
       "      U.S. viewers  2 Parts  \n",
       "35    52.9 million        1  \n",
       "94    31.6 million        1  \n",
       "117   25.9 million        1  \n",
       "132   20.7 million        1  \n",
       "140   30.7 million        1  \n",
       "164  30.05 million        1  \n",
       "187  34.91 million        1  \n",
       "210  25.46 million        1  \n",
       "228  52.46 million        1  "
      ]
     },
     "execution_count": 547,
     "metadata": {},
     "output_type": "execute_result"
    }
   ],
   "source": [
    "def isTwoPart(row):\n",
    "    if '\\n' in row['Episode']:\n",
    "        return 1\n",
    "    else:\n",
    "        return 0\n",
    "\n",
    "friends_df['2 Parts'] = friends_df.apply(lambda row: isTwoPart(row), axis=1)\n",
    "friends_df[friends_df['2 Parts'] == 1]\n"
   ]
  },
  {
   "cell_type": "markdown",
   "metadata": {},
   "source": [
    "#### Trim the episode number of rows with 2 parts\n",
    "For example: Season 2 Episode 12 have two parts, the second part is episode 13. But we will just call the two parts \"Season 2 Episode 12\"."
   ]
  },
  {
   "cell_type": "code",
   "execution_count": 548,
   "metadata": {},
   "outputs": [
    {
     "data": {
      "text/html": [
       "<div>\n",
       "<style scoped>\n",
       "    .dataframe tbody tr th:only-of-type {\n",
       "        vertical-align: middle;\n",
       "    }\n",
       "\n",
       "    .dataframe tbody tr th {\n",
       "        vertical-align: top;\n",
       "    }\n",
       "\n",
       "    .dataframe thead th {\n",
       "        text-align: right;\n",
       "    }\n",
       "</style>\n",
       "<table border=\"1\" class=\"dataframe\">\n",
       "  <thead>\n",
       "    <tr style=\"text-align: right;\">\n",
       "      <th></th>\n",
       "      <th>Date</th>\n",
       "      <th>Episode</th>\n",
       "      <th>Title</th>\n",
       "      <th>Directed by</th>\n",
       "      <th>Written by</th>\n",
       "      <th>Duration</th>\n",
       "      <th>Summary</th>\n",
       "      <th>Rating/Share</th>\n",
       "      <th>U.S. viewers</th>\n",
       "      <th>2 Parts</th>\n",
       "    </tr>\n",
       "  </thead>\n",
       "  <tbody>\n",
       "    <tr>\n",
       "      <th>35</th>\n",
       "      <td>01/28/96</td>\n",
       "      <td>02-12</td>\n",
       "      <td>The One After the Super Bowl</td>\n",
       "      <td>Michael Lembeck</td>\n",
       "      <td>Jeffrey Astrof &amp; Mike SikowitzMichael Borkow</td>\n",
       "      <td>44.0</td>\n",
       "      <td>Ross goes to visit Marcel whilst on a trip to ...</td>\n",
       "      <td>29.6/46</td>\n",
       "      <td>52.9 million</td>\n",
       "      <td>1</td>\n",
       "    </tr>\n",
       "    <tr>\n",
       "      <th>94</th>\n",
       "      <td>05/07/98</td>\n",
       "      <td>04-23</td>\n",
       "      <td>The One with Ross's Wedding</td>\n",
       "      <td>Kevin S. Bright</td>\n",
       "      <td>Michael BorkowStory by : Jill Condon &amp; Amy Too...</td>\n",
       "      <td>60.0</td>\n",
       "      <td>Phoebe tries to help Rachel deal with her feel...</td>\n",
       "      <td>21.2/35</td>\n",
       "      <td>31.6 million</td>\n",
       "      <td>1</td>\n",
       "    </tr>\n",
       "    <tr>\n",
       "      <th>117</th>\n",
       "      <td>05/20/99</td>\n",
       "      <td>05-23</td>\n",
       "      <td>The One in Vegas</td>\n",
       "      <td>Kevin S. Bright</td>\n",
       "      <td>Ted Cohen &amp; Andrew ReichGregory S. Malins &amp; Sc...</td>\n",
       "      <td>44.0</td>\n",
       "      <td>The gang go to Las Vegas to visit Joey. Chandl...</td>\n",
       "      <td>17.0/29</td>\n",
       "      <td>25.9 million</td>\n",
       "      <td>1</td>\n",
       "    </tr>\n",
       "    <tr>\n",
       "      <th>132</th>\n",
       "      <td>02/17/00</td>\n",
       "      <td>06-15</td>\n",
       "      <td>The One That Could Have Been</td>\n",
       "      <td>Michael Lembeck</td>\n",
       "      <td>Gregory S. Malins &amp; Adam ChaseDavid Crane &amp; Ma...</td>\n",
       "      <td>60.0</td>\n",
       "      <td>When Rachel hears Barry and Mindy are getting ...</td>\n",
       "      <td>16.7/26</td>\n",
       "      <td>20.7 million</td>\n",
       "      <td>1</td>\n",
       "    </tr>\n",
       "    <tr>\n",
       "      <th>140</th>\n",
       "      <td>05/18/00</td>\n",
       "      <td>06-24</td>\n",
       "      <td>The One with the Proposal</td>\n",
       "      <td>Kevin S. Bright</td>\n",
       "      <td>Shana Goldberg-Meehan &amp; Scott SilveriAndrew Re...</td>\n",
       "      <td>60.0</td>\n",
       "      <td>Chandler's plan to propose to Monica at dinner...</td>\n",
       "      <td>20.0/32</td>\n",
       "      <td>30.7 million</td>\n",
       "      <td>1</td>\n",
       "    </tr>\n",
       "    <tr>\n",
       "      <th>164</th>\n",
       "      <td>05/17/01</td>\n",
       "      <td>07-23</td>\n",
       "      <td>The One with Monica and Chandler's Wedding</td>\n",
       "      <td>Kevin S. Bright</td>\n",
       "      <td>Gregory S. MalinsMarta Kauffman &amp; David Crane</td>\n",
       "      <td>44.0</td>\n",
       "      <td>So close to the wedding, Chandler suddenly rea...</td>\n",
       "      <td>18.7/31</td>\n",
       "      <td>30.05 million</td>\n",
       "      <td>1</td>\n",
       "    </tr>\n",
       "    <tr>\n",
       "      <th>187</th>\n",
       "      <td>05/16/02</td>\n",
       "      <td>08-23</td>\n",
       "      <td>The One Where Rachel Has a Baby</td>\n",
       "      <td>Kevin S. Bright</td>\n",
       "      <td>Scott SilveriMarta Kauffman &amp; David Crane</td>\n",
       "      <td>44.0</td>\n",
       "      <td>Ross and Rachel go to the hospital to have the...</td>\n",
       "      <td>21.1/34</td>\n",
       "      <td>34.91 million</td>\n",
       "      <td>1</td>\n",
       "    </tr>\n",
       "    <tr>\n",
       "      <th>210</th>\n",
       "      <td>05/15/03</td>\n",
       "      <td>09-23</td>\n",
       "      <td>The One in Barbados</td>\n",
       "      <td>Kevin S. Bright</td>\n",
       "      <td>Shana Goldberg-Meehan &amp; Scott SilveriMarta Kau...</td>\n",
       "      <td>44.0</td>\n",
       "      <td>Chandler gives advice to David, but that makes...</td>\n",
       "      <td>16.0/26</td>\n",
       "      <td>25.46 million</td>\n",
       "      <td>1</td>\n",
       "    </tr>\n",
       "    <tr>\n",
       "      <th>228</th>\n",
       "      <td>05/06/04</td>\n",
       "      <td>10-17</td>\n",
       "      <td>The Last One</td>\n",
       "      <td>Kevin S. Bright</td>\n",
       "      <td>Marta Kauffman &amp; David Crane</td>\n",
       "      <td>60.0</td>\n",
       "      <td>Erica gives birth to the baby that Monica and ...</td>\n",
       "      <td>29.8/43</td>\n",
       "      <td>52.46 million</td>\n",
       "      <td>1</td>\n",
       "    </tr>\n",
       "  </tbody>\n",
       "</table>\n",
       "</div>"
      ],
      "text/plain": [
       "         Date Episode                                       Title  \\\n",
       "35   01/28/96   02-12                The One After the Super Bowl   \n",
       "94   05/07/98   04-23                 The One with Ross's Wedding   \n",
       "117  05/20/99   05-23                            The One in Vegas   \n",
       "132  02/17/00   06-15                The One That Could Have Been   \n",
       "140  05/18/00   06-24                   The One with the Proposal   \n",
       "164  05/17/01   07-23  The One with Monica and Chandler's Wedding   \n",
       "187  05/16/02   08-23             The One Where Rachel Has a Baby   \n",
       "210  05/15/03   09-23                         The One in Barbados   \n",
       "228  05/06/04   10-17                                The Last One   \n",
       "\n",
       "         Directed by                                         Written by  \\\n",
       "35   Michael Lembeck       Jeffrey Astrof & Mike SikowitzMichael Borkow   \n",
       "94   Kevin S. Bright  Michael BorkowStory by : Jill Condon & Amy Too...   \n",
       "117  Kevin S. Bright  Ted Cohen & Andrew ReichGregory S. Malins & Sc...   \n",
       "132  Michael Lembeck  Gregory S. Malins & Adam ChaseDavid Crane & Ma...   \n",
       "140  Kevin S. Bright  Shana Goldberg-Meehan & Scott SilveriAndrew Re...   \n",
       "164  Kevin S. Bright      Gregory S. MalinsMarta Kauffman & David Crane   \n",
       "187  Kevin S. Bright          Scott SilveriMarta Kauffman & David Crane   \n",
       "210  Kevin S. Bright  Shana Goldberg-Meehan & Scott SilveriMarta Kau...   \n",
       "228  Kevin S. Bright                       Marta Kauffman & David Crane   \n",
       "\n",
       "     Duration                                            Summary Rating/Share  \\\n",
       "35       44.0  Ross goes to visit Marcel whilst on a trip to ...      29.6/46   \n",
       "94       60.0  Phoebe tries to help Rachel deal with her feel...      21.2/35   \n",
       "117      44.0  The gang go to Las Vegas to visit Joey. Chandl...      17.0/29   \n",
       "132      60.0  When Rachel hears Barry and Mindy are getting ...      16.7/26   \n",
       "140      60.0  Chandler's plan to propose to Monica at dinner...      20.0/32   \n",
       "164      44.0  So close to the wedding, Chandler suddenly rea...      18.7/31   \n",
       "187      44.0  Ross and Rachel go to the hospital to have the...      21.1/34   \n",
       "210      44.0  Chandler gives advice to David, but that makes...      16.0/26   \n",
       "228      60.0  Erica gives birth to the baby that Monica and ...      29.8/43   \n",
       "\n",
       "      U.S. viewers  2 Parts  \n",
       "35    52.9 million        1  \n",
       "94    31.6 million        1  \n",
       "117   25.9 million        1  \n",
       "132   20.7 million        1  \n",
       "140   30.7 million        1  \n",
       "164  30.05 million        1  \n",
       "187  34.91 million        1  \n",
       "210  25.46 million        1  \n",
       "228  52.46 million        1  "
      ]
     },
     "execution_count": 548,
     "metadata": {},
     "output_type": "execute_result"
    }
   ],
   "source": [
    "def epSubstring(row):\n",
    "    if row['2 Parts'] == 1:\n",
    "        return row['Episode'][:5]\n",
    "    else:\n",
    "        return row['Episode']\n",
    "\n",
    "friends_df['Episode'] = friends_df.apply(lambda row: epSubstring(row), axis=1)\n",
    "friends_df[friends_df['2 Parts'] == 1]"
   ]
  },
  {
   "cell_type": "markdown",
   "metadata": {},
   "source": [
    "### Separate the season and episode column"
   ]
  },
  {
   "cell_type": "code",
   "execution_count": 549,
   "metadata": {},
   "outputs": [
    {
     "data": {
      "text/html": [
       "<div>\n",
       "<style scoped>\n",
       "    .dataframe tbody tr th:only-of-type {\n",
       "        vertical-align: middle;\n",
       "    }\n",
       "\n",
       "    .dataframe tbody tr th {\n",
       "        vertical-align: top;\n",
       "    }\n",
       "\n",
       "    .dataframe thead th {\n",
       "        text-align: right;\n",
       "    }\n",
       "</style>\n",
       "<table border=\"1\" class=\"dataframe\">\n",
       "  <thead>\n",
       "    <tr style=\"text-align: right;\">\n",
       "      <th></th>\n",
       "      <th>Season</th>\n",
       "      <th>Episode</th>\n",
       "    </tr>\n",
       "  </thead>\n",
       "  <tbody>\n",
       "    <tr>\n",
       "      <th>0</th>\n",
       "      <td>01</td>\n",
       "      <td>01</td>\n",
       "    </tr>\n",
       "    <tr>\n",
       "      <th>1</th>\n",
       "      <td>01</td>\n",
       "      <td>02</td>\n",
       "    </tr>\n",
       "    <tr>\n",
       "      <th>2</th>\n",
       "      <td>01</td>\n",
       "      <td>03</td>\n",
       "    </tr>\n",
       "    <tr>\n",
       "      <th>3</th>\n",
       "      <td>01</td>\n",
       "      <td>04</td>\n",
       "    </tr>\n",
       "    <tr>\n",
       "      <th>4</th>\n",
       "      <td>01</td>\n",
       "      <td>05</td>\n",
       "    </tr>\n",
       "    <tr>\n",
       "      <th>...</th>\n",
       "      <td>...</td>\n",
       "      <td>...</td>\n",
       "    </tr>\n",
       "    <tr>\n",
       "      <th>223</th>\n",
       "      <td>10</td>\n",
       "      <td>13</td>\n",
       "    </tr>\n",
       "    <tr>\n",
       "      <th>224</th>\n",
       "      <td>10</td>\n",
       "      <td>14</td>\n",
       "    </tr>\n",
       "    <tr>\n",
       "      <th>225</th>\n",
       "      <td>10</td>\n",
       "      <td>15</td>\n",
       "    </tr>\n",
       "    <tr>\n",
       "      <th>226</th>\n",
       "      <td>10</td>\n",
       "      <td>16</td>\n",
       "    </tr>\n",
       "    <tr>\n",
       "      <th>228</th>\n",
       "      <td>10</td>\n",
       "      <td>17</td>\n",
       "    </tr>\n",
       "  </tbody>\n",
       "</table>\n",
       "<p>227 rows × 2 columns</p>\n",
       "</div>"
      ],
      "text/plain": [
       "    Season Episode\n",
       "0       01      01\n",
       "1       01      02\n",
       "2       01      03\n",
       "3       01      04\n",
       "4       01      05\n",
       "..     ...     ...\n",
       "223     10      13\n",
       "224     10      14\n",
       "225     10      15\n",
       "226     10      16\n",
       "228     10      17\n",
       "\n",
       "[227 rows x 2 columns]"
      ]
     },
     "execution_count": 549,
     "metadata": {},
     "output_type": "execute_result"
    }
   ],
   "source": [
    "# Rename episode column to Episode_temp because it will be dropped later\n",
    "friends_df.rename(columns={'Episode':'Episode_temp'}, inplace=True)\n",
    "\n",
    "# Split the Episode_temp column to Season and Episode column\n",
    "friends_df[['Season', 'Episode']] = friends_df['Episode_temp'].str.split('-', expand=True)\n",
    "\n",
    "# Drop the old episode column\n",
    "friends_df.drop(columns=['Episode_temp'], inplace=True)\n",
    "\n",
    "friends_df[['Season', 'Episode']]\n"
   ]
  },
  {
   "cell_type": "markdown",
   "metadata": {},
   "source": [
    "### Convert Season and Episode column to numeric values"
   ]
  },
  {
   "cell_type": "code",
   "execution_count": 550,
   "metadata": {},
   "outputs": [
    {
     "data": {
      "text/plain": [
       "Season     int64\n",
       "Episode    int64\n",
       "dtype: object"
      ]
     },
     "execution_count": 550,
     "metadata": {},
     "output_type": "execute_result"
    }
   ],
   "source": [
    "friends_df['Season'] = friends_df['Season'].astype('int64')\n",
    "friends_df['Episode'] = friends_df['Episode'].astype('int64')\n",
    "\n",
    "friends_df[['Season', 'Episode']].dtypes"
   ]
  },
  {
   "cell_type": "markdown",
   "metadata": {},
   "source": [
    "### Convert U.S. viewers to numerical data type"
   ]
  },
  {
   "cell_type": "code",
   "execution_count": 551,
   "metadata": {},
   "outputs": [
    {
     "data": {
      "text/plain": [
       "0    21.5 million\n",
       "1    20.2 million\n",
       "2    19.5 million\n",
       "3    19.7 million\n",
       "4    18.6 million\n",
       "Name: U.S. viewers, dtype: object"
      ]
     },
     "execution_count": 551,
     "metadata": {},
     "output_type": "execute_result"
    }
   ],
   "source": [
    "# Display the U.S. Viewers column\n",
    "friends_df['U.S. viewers'].head()"
   ]
  },
  {
   "cell_type": "code",
   "execution_count": 552,
   "metadata": {},
   "outputs": [
    {
     "data": {
      "text/plain": [
       "0    21.5\n",
       "1    20.2\n",
       "2    19.5\n",
       "3    19.7\n",
       "4    18.6\n",
       "Name: U.S. viewers (million), dtype: object"
      ]
     },
     "execution_count": 552,
     "metadata": {},
     "output_type": "execute_result"
    }
   ],
   "source": [
    "# Trim the U.S. Viewers to contain only numeric values\n",
    "friends_df['U.S. viewers'] = friends_df['U.S. viewers'].str.split().str[0]\n",
    "friends_df.rename(columns={'U.S. viewers': 'U.S. viewers (million)'}, inplace=True)\n",
    "\n",
    "friends_df['U.S. viewers (million)'].head()\n"
   ]
  },
  {
   "cell_type": "code",
   "execution_count": 553,
   "metadata": {},
   "outputs": [
    {
     "data": {
      "text/plain": [
       "dtype('float64')"
      ]
     },
     "execution_count": 553,
     "metadata": {},
     "output_type": "execute_result"
    }
   ],
   "source": [
    "# Convert U.S. viewers (million) column to float64\n",
    "friends_df['U.S. viewers (million)'] = friends_df['U.S. viewers (million)'].astype('float64')\n",
    "\n",
    "friends_df['U.S. viewers (million)'].dtype"
   ]
  },
  {
   "cell_type": "markdown",
   "metadata": {},
   "source": [
    "### Only select the rating in Rating/Share column"
   ]
  },
  {
   "cell_type": "code",
   "execution_count": 554,
   "metadata": {},
   "outputs": [
    {
     "data": {
      "text/plain": [
       "0    14.7/23\n",
       "1    14.0/22\n",
       "2    13.6/22\n",
       "3    13.7/22\n",
       "4    12.9/20\n",
       "Name: Rating/Share, dtype: object"
      ]
     },
     "execution_count": 554,
     "metadata": {},
     "output_type": "execute_result"
    }
   ],
   "source": [
    "# Display the Rating/Share column\n",
    "friends_df['Rating/Share'].head()"
   ]
  },
  {
   "cell_type": "code",
   "execution_count": 555,
   "metadata": {},
   "outputs": [
    {
     "data": {
      "text/plain": [
       "0    14.7\n",
       "1    14.0\n",
       "2    13.6\n",
       "3    13.7\n",
       "4    12.9\n",
       "Name: Rating/Share, dtype: object"
      ]
     },
     "execution_count": 555,
     "metadata": {},
     "output_type": "execute_result"
    }
   ],
   "source": [
    "# Only extract the rating\n",
    "friends_df['Rating/Share'] = friends_df['Rating/Share'].str.split('/').str[0]\n",
    "\n",
    "friends_df['Rating/Share'].head()"
   ]
  },
  {
   "cell_type": "code",
   "execution_count": 556,
   "metadata": {},
   "outputs": [
    {
     "data": {
      "text/plain": [
       "dtype('float64')"
      ]
     },
     "execution_count": 556,
     "metadata": {},
     "output_type": "execute_result"
    }
   ],
   "source": [
    "# Convert Ratings to float64\n",
    "friends_df.rename(columns={'Rating/Share':'Rating'}, inplace=True)\n",
    "friends_df['Rating'] = friends_df['Rating'].astype('float64')\n",
    "\n",
    "friends_df['Rating'].dtype"
   ]
  },
  {
   "cell_type": "markdown",
   "metadata": {},
   "source": [
    "### Convert the Date column to a datetime datatype"
   ]
  },
  {
   "cell_type": "code",
   "execution_count": 557,
   "metadata": {},
   "outputs": [
    {
     "data": {
      "text/plain": [
       "0    09/22/94\n",
       "1    09/29/94\n",
       "2    10/06/94\n",
       "3    10/13/94\n",
       "4    10/20/94\n",
       "Name: Date, dtype: object"
      ]
     },
     "execution_count": 557,
     "metadata": {},
     "output_type": "execute_result"
    }
   ],
   "source": [
    "# Display the Date column\n",
    "friends_df['Date'].head()"
   ]
  },
  {
   "cell_type": "code",
   "execution_count": 558,
   "metadata": {},
   "outputs": [
    {
     "data": {
      "text/plain": [
       "0   1994-09-22\n",
       "1   1994-09-29\n",
       "2   1994-10-06\n",
       "3   1994-10-13\n",
       "4   1994-10-20\n",
       "Name: Date, dtype: datetime64[ns]"
      ]
     },
     "execution_count": 558,
     "metadata": {},
     "output_type": "execute_result"
    }
   ],
   "source": [
    "# Convert Date column to datetime\n",
    "friends_df['Date'] = pd.to_datetime(friends_df['Date'], format='%m/%d/%y')\n",
    "\n",
    "friends_df['Date'].head()"
   ]
  },
  {
   "cell_type": "markdown",
   "metadata": {},
   "source": [
    "## Q1: Number of episodes per season"
   ]
  },
  {
   "cell_type": "code",
   "execution_count": 559,
   "metadata": {},
   "outputs": [
    {
     "data": {
      "image/png": "[encoded data removed]",
      "text/plain": [
       "<Figure size 640x480 with 1 Axes>"
      ]
     },
     "metadata": {},
     "output_type": "display_data"
    }
   ],
   "source": [
    "season_episode_count = friends_df['Season'].value_counts().sort_index()\n",
    "\n",
    "sns.barplot(x=season_episode_count.index, y=season_episode_count.values).set(title='No. of episodes per season')\n",
    "plt.show()\n"
   ]
  },
  {
   "cell_type": "markdown",
   "metadata": {},
   "source": [
    "## Q2: Which among the characters has the most exposure?\n",
    "Exposure means that the character is mentioned on the episode's summary"
   ]
  },
  {
   "cell_type": "markdown",
   "metadata": {},
   "source": [
    "### Create new dataframe: character_exposure"
   ]
  },
  {
   "cell_type": "code",
   "execution_count": 560,
   "metadata": {},
   "outputs": [],
   "source": [
    "characters = ['Monica', 'Rachel', 'Phoebe', 'Chandler', 'Ross', 'Joey']\n",
    "\n",
    "def mentioned(row, character):\n",
    "    if character in row['Summary']:\n",
    "        return 1\n",
    "    else:\n",
    "        return 0\n",
    "\n",
    "# Create a flag column for each characters if they are mentioned in an episode's summary\n",
    "for character in characters:\n",
    "    friends_df[character] = friends_df.apply(lambda row: mentioned(row, character), axis=1)"
   ]
  },
  {
   "cell_type": "code",
   "execution_count": 561,
   "metadata": {},
   "outputs": [],
   "source": [
    "# Reshape dataframe to visualize exposure for each character\n",
    "character_exposure = pd.melt(friends_df, id_vars=['Season', 'Episode', 'Rating', 'U.S. viewers (million)'], value_vars=characters, var_name='Character')\n",
    "character_exposure = character_exposure[character_exposure['value'] == 1].iloc[:, :-1]\n"
   ]
  },
  {
   "cell_type": "markdown",
   "metadata": {},
   "source": [
    "### Character exposure per season"
   ]
  },
  {
   "cell_type": "code",
   "execution_count": 562,
   "metadata": {},
   "outputs": [
    {
     "data": {
      "image/png": "[encoded data removed]",
      "text/plain": [
       "<Figure size 1100x500 with 1 Axes>"
      ]
     },
     "metadata": {},
     "output_type": "display_data"
    }
   ],
   "source": [
    "fig, ax = plt.subplots(figsize=(11, 5))\n",
    "\n",
    "sns.countplot(ax=ax, x='Season', hue='Character', data=character_exposure).set(\n",
    "    title='Character exposure per season based on mentions in every episode')\n",
    "plt.legend(loc='lower right')\n",
    "plt.show()\n"
   ]
  },
  {
   "cell_type": "markdown",
   "metadata": {},
   "source": [
    "### Most mentioned character per season"
   ]
  },
  {
   "cell_type": "code",
   "execution_count": 563,
   "metadata": {},
   "outputs": [
    {
     "data": {
      "text/html": [
       "<div>\n",
       "<style scoped>\n",
       "    .dataframe tbody tr th:only-of-type {\n",
       "        vertical-align: middle;\n",
       "    }\n",
       "\n",
       "    .dataframe tbody tr th {\n",
       "        vertical-align: top;\n",
       "    }\n",
       "\n",
       "    .dataframe thead th {\n",
       "        text-align: right;\n",
       "    }\n",
       "</style>\n",
       "<table border=\"1\" class=\"dataframe\">\n",
       "  <thead>\n",
       "    <tr style=\"text-align: right;\">\n",
       "      <th></th>\n",
       "      <th></th>\n",
       "      <th>No. of episode mentions</th>\n",
       "    </tr>\n",
       "    <tr>\n",
       "      <th>Season</th>\n",
       "      <th>Character</th>\n",
       "      <th></th>\n",
       "    </tr>\n",
       "  </thead>\n",
       "  <tbody>\n",
       "    <tr>\n",
       "      <th>1</th>\n",
       "      <th>Ross</th>\n",
       "      <td>15</td>\n",
       "    </tr>\n",
       "    <tr>\n",
       "      <th>2</th>\n",
       "      <th>Rachel</th>\n",
       "      <td>19</td>\n",
       "    </tr>\n",
       "    <tr>\n",
       "      <th>3</th>\n",
       "      <th>Ross</th>\n",
       "      <td>18</td>\n",
       "    </tr>\n",
       "    <tr>\n",
       "      <th>4</th>\n",
       "      <th>Chandler</th>\n",
       "      <td>21</td>\n",
       "    </tr>\n",
       "    <tr>\n",
       "      <th>5</th>\n",
       "      <th>Ross</th>\n",
       "      <td>19</td>\n",
       "    </tr>\n",
       "    <tr>\n",
       "      <th>6</th>\n",
       "      <th>Rachel</th>\n",
       "      <td>19</td>\n",
       "    </tr>\n",
       "    <tr>\n",
       "      <th>7</th>\n",
       "      <th>Rachel</th>\n",
       "      <td>20</td>\n",
       "    </tr>\n",
       "    <tr>\n",
       "      <th>8</th>\n",
       "      <th>Monica</th>\n",
       "      <td>18</td>\n",
       "    </tr>\n",
       "    <tr>\n",
       "      <th>9</th>\n",
       "      <th>Chandler</th>\n",
       "      <td>18</td>\n",
       "    </tr>\n",
       "    <tr>\n",
       "      <th>10</th>\n",
       "      <th>Rachel</th>\n",
       "      <td>15</td>\n",
       "    </tr>\n",
       "  </tbody>\n",
       "</table>\n",
       "</div>"
      ],
      "text/plain": [
       "                  No. of episode mentions\n",
       "Season Character                         \n",
       "1      Ross                            15\n",
       "2      Rachel                          19\n",
       "3      Ross                            18\n",
       "4      Chandler                        21\n",
       "5      Ross                            19\n",
       "6      Rachel                          19\n",
       "7      Rachel                          20\n",
       "8      Monica                          18\n",
       "9      Chandler                        18\n",
       "10     Rachel                          15"
      ]
     },
     "execution_count": 563,
     "metadata": {},
     "output_type": "execute_result"
    }
   ],
   "source": [
    "character_exposure[['Season', 'Character', 'Episode']].groupby(['Season', 'Character'])\\\n",
    "    .count().sort_values(['Season', 'Episode'])\\\n",
    "        .groupby(level=0).tail(1)\\\n",
    "            .rename(columns={'Episode':'No. of episode mentions'})"
   ]
  },
  {
   "cell_type": "markdown",
   "metadata": {},
   "source": [
    "### Overall character exposure"
   ]
  },
  {
   "cell_type": "code",
   "execution_count": 564,
   "metadata": {},
   "outputs": [
    {
     "data": {
      "image/png": "[encoded data removed]",
      "text/plain": [
       "<Figure size 640x480 with 1 Axes>"
      ]
     },
     "metadata": {},
     "output_type": "display_data"
    }
   ],
   "source": [
    "# Visualize exposure\n",
    "sns.countplot(x='Character', data=character_exposure,\n",
    "              order=character_exposure['Character'].value_counts().index).set(title='Overall character exposure based on mentions in every episode')\n",
    "plt.show()"
   ]
  },
  {
   "cell_type": "markdown",
   "metadata": {},
   "source": [
    "## Q3: Is the average viewer consistent per season?"
   ]
  },
  {
   "cell_type": "code",
   "execution_count": 573,
   "metadata": {},
   "outputs": [
    {
     "data": {
      "image/png": "[encoded data removed]",
      "text/plain": [
       "<Figure size 640x480 with 2 Axes>"
      ]
     },
     "metadata": {},
     "output_type": "display_data"
    }
   ],
   "source": [
    "seasons = [i+1 for i in range(friends_df['Season'].max())]\n",
    "\n",
    "fig, ax = plt.subplots(2, sharex=True)\n",
    "fig.suptitle('Average rating and no. of viewers')\n",
    "sns.lineplot(ax=ax[0], x='Season', y='Rating', data=friends_df, color='green')\n",
    "sns.lineplot(ax=ax[1], x='Season', y='U.S. viewers (million)',\n",
    "             data=friends_df, color='blue')\n",
    "ax[1].set_xticks(seasons)\n",
    "plt.show()"
   ]
  },
  {
   "cell_type": "markdown",
   "metadata": {},
   "source": [
    "## Q4: Which season has the most episodes?"
   ]
  },
  {
   "cell_type": "code",
   "execution_count": 587,
   "metadata": {},
   "outputs": [
    {
     "data": {
      "text/html": [
       "<div>\n",
       "<style scoped>\n",
       "    .dataframe tbody tr th:only-of-type {\n",
       "        vertical-align: middle;\n",
       "    }\n",
       "\n",
       "    .dataframe tbody tr th {\n",
       "        vertical-align: top;\n",
       "    }\n",
       "\n",
       "    .dataframe thead th {\n",
       "        text-align: right;\n",
       "    }\n",
       "</style>\n",
       "<table border=\"1\" class=\"dataframe\">\n",
       "  <thead>\n",
       "    <tr style=\"text-align: right;\">\n",
       "      <th></th>\n",
       "      <th>count</th>\n",
       "    </tr>\n",
       "    <tr>\n",
       "      <th>Season</th>\n",
       "      <th></th>\n",
       "    </tr>\n",
       "  </thead>\n",
       "  <tbody>\n",
       "    <tr>\n",
       "      <th>3</th>\n",
       "      <td>25</td>\n",
       "    </tr>\n",
       "  </tbody>\n",
       "</table>\n",
       "</div>"
      ],
      "text/plain": [
       "        count\n",
       "Season       \n",
       "3          25"
      ]
     },
     "execution_count": 587,
     "metadata": {},
     "output_type": "execute_result"
    }
   ],
   "source": [
    "# Create new dataframe for season ratings\n",
    "season_ratings = friends_df\\\n",
    "    .groupby('Season')\\\n",
    "    .aggregate(\n",
    "        {\n",
    "            'Rating': ['mean'],\n",
    "            'U.S. viewers (million)': ['mean'],\n",
    "            'Season': ['count'],\n",
    "        }\n",
    "    ).rename(columns={'Season': 'Episodes'}, level=0)\n",
    "\n",
    "season_ratings[season_ratings[('Episodes', 'count')] == season_ratings[(\n",
    "    'Episodes', 'count')].max()]['Episodes']\n"
   ]
  },
  {
   "cell_type": "markdown",
   "metadata": {},
   "source": [
    "## Q4: Most rated and least rated season"
   ]
  },
  {
   "cell_type": "markdown",
   "metadata": {},
   "source": [
    "### Most rated season"
   ]
  },
  {
   "cell_type": "code",
   "execution_count": 567,
   "metadata": {},
   "outputs": [
    {
     "data": {
      "text/html": [
       "<div>\n",
       "<style scoped>\n",
       "    .dataframe tbody tr th:only-of-type {\n",
       "        vertical-align: middle;\n",
       "    }\n",
       "\n",
       "    .dataframe tbody tr th {\n",
       "        vertical-align: top;\n",
       "    }\n",
       "\n",
       "    .dataframe thead tr th {\n",
       "        text-align: left;\n",
       "    }\n",
       "\n",
       "    .dataframe thead tr:last-of-type th {\n",
       "        text-align: right;\n",
       "    }\n",
       "</style>\n",
       "<table border=\"1\" class=\"dataframe\">\n",
       "  <thead>\n",
       "    <tr>\n",
       "      <th></th>\n",
       "      <th>Rating</th>\n",
       "      <th>U.S. viewers (million)</th>\n",
       "      <th>Episodes</th>\n",
       "    </tr>\n",
       "    <tr>\n",
       "      <th></th>\n",
       "      <th>mean</th>\n",
       "      <th>mean</th>\n",
       "      <th>count</th>\n",
       "    </tr>\n",
       "    <tr>\n",
       "      <th>Season</th>\n",
       "      <th></th>\n",
       "      <th></th>\n",
       "      <th></th>\n",
       "    </tr>\n",
       "  </thead>\n",
       "  <tbody>\n",
       "    <tr>\n",
       "      <th>2</th>\n",
       "      <td>20.117391</td>\n",
       "      <td>30.8</td>\n",
       "      <td>23</td>\n",
       "    </tr>\n",
       "  </tbody>\n",
       "</table>\n",
       "</div>"
      ],
      "text/plain": [
       "           Rating U.S. viewers (million) Episodes\n",
       "             mean                   mean    count\n",
       "Season                                           \n",
       "2       20.117391                   30.8       23"
      ]
     },
     "execution_count": 567,
     "metadata": {},
     "output_type": "execute_result"
    }
   ],
   "source": [
    "season_ratings[season_ratings[('Rating', 'mean')] == season_ratings[('Rating', 'mean')].max()]"
   ]
  },
  {
   "cell_type": "markdown",
   "metadata": {},
   "source": [
    "### Least rated season"
   ]
  },
  {
   "cell_type": "code",
   "execution_count": 568,
   "metadata": {},
   "outputs": [
    {
     "data": {
      "text/html": [
       "<div>\n",
       "<style scoped>\n",
       "    .dataframe tbody tr th:only-of-type {\n",
       "        vertical-align: middle;\n",
       "    }\n",
       "\n",
       "    .dataframe tbody tr th {\n",
       "        vertical-align: top;\n",
       "    }\n",
       "\n",
       "    .dataframe thead tr th {\n",
       "        text-align: left;\n",
       "    }\n",
       "\n",
       "    .dataframe thead tr:last-of-type th {\n",
       "        text-align: right;\n",
       "    }\n",
       "</style>\n",
       "<table border=\"1\" class=\"dataframe\">\n",
       "  <thead>\n",
       "    <tr>\n",
       "      <th></th>\n",
       "      <th>Rating</th>\n",
       "      <th>U.S. viewers (million)</th>\n",
       "      <th>Episodes</th>\n",
       "    </tr>\n",
       "    <tr>\n",
       "      <th></th>\n",
       "      <th>mean</th>\n",
       "      <th>mean</th>\n",
       "      <th>count</th>\n",
       "    </tr>\n",
       "    <tr>\n",
       "      <th>Season</th>\n",
       "      <th></th>\n",
       "      <th></th>\n",
       "      <th></th>\n",
       "    </tr>\n",
       "  </thead>\n",
       "  <tbody>\n",
       "    <tr>\n",
       "      <th>7</th>\n",
       "      <td>14.013043</td>\n",
       "      <td>21.703478</td>\n",
       "      <td>23</td>\n",
       "    </tr>\n",
       "  </tbody>\n",
       "</table>\n",
       "</div>"
      ],
      "text/plain": [
       "           Rating U.S. viewers (million) Episodes\n",
       "             mean                   mean    count\n",
       "Season                                           \n",
       "7       14.013043              21.703478       23"
      ]
     },
     "execution_count": 568,
     "metadata": {},
     "output_type": "execute_result"
    }
   ],
   "source": [
    "season_ratings[season_ratings[('Rating', 'mean')] == season_ratings[('Rating', 'mean')].min()]\n"
   ]
  },
  {
   "cell_type": "markdown",
   "metadata": {},
   "source": [
    "## Q5: Most rated and least rated episodes"
   ]
  },
  {
   "cell_type": "markdown",
   "metadata": {},
   "source": [
    "### Least rated episode"
   ]
  },
  {
   "cell_type": "code",
   "execution_count": 569,
   "metadata": {},
   "outputs": [
    {
     "data": {
      "text/html": [
       "<div>\n",
       "<style scoped>\n",
       "    .dataframe tbody tr th:only-of-type {\n",
       "        vertical-align: middle;\n",
       "    }\n",
       "\n",
       "    .dataframe tbody tr th {\n",
       "        vertical-align: top;\n",
       "    }\n",
       "\n",
       "    .dataframe thead th {\n",
       "        text-align: right;\n",
       "    }\n",
       "</style>\n",
       "<table border=\"1\" class=\"dataframe\">\n",
       "  <thead>\n",
       "    <tr style=\"text-align: right;\">\n",
       "      <th></th>\n",
       "      <th>Season</th>\n",
       "      <th>Episode</th>\n",
       "      <th>Title</th>\n",
       "      <th>Rating</th>\n",
       "      <th>U.S. viewers (million)</th>\n",
       "    </tr>\n",
       "  </thead>\n",
       "  <tbody>\n",
       "    <tr>\n",
       "      <th>148</th>\n",
       "      <td>7</td>\n",
       "      <td>8</td>\n",
       "      <td>The One Where Chandler Doesn't Like Dogs</td>\n",
       "      <td>9.6</td>\n",
       "      <td>16.57</td>\n",
       "    </tr>\n",
       "  </tbody>\n",
       "</table>\n",
       "</div>"
      ],
      "text/plain": [
       "     Season  Episode                                     Title  Rating  \\\n",
       "148       7        8  The One Where Chandler Doesn't Like Dogs     9.6   \n",
       "\n",
       "     U.S. viewers (million)  \n",
       "148                   16.57  "
      ]
     },
     "execution_count": 569,
     "metadata": {},
     "output_type": "execute_result"
    }
   ],
   "source": [
    "friends_df[friends_df['Rating'] == friends_df['Rating'].min()][['Season', 'Episode', 'Title', 'Rating', 'U.S. viewers (million)']]"
   ]
  },
  {
   "cell_type": "markdown",
   "metadata": {},
   "source": [
    "### Most rated episode"
   ]
  },
  {
   "cell_type": "code",
   "execution_count": 570,
   "metadata": {},
   "outputs": [
    {
     "data": {
      "text/html": [
       "<div>\n",
       "<style scoped>\n",
       "    .dataframe tbody tr th:only-of-type {\n",
       "        vertical-align: middle;\n",
       "    }\n",
       "\n",
       "    .dataframe tbody tr th {\n",
       "        vertical-align: top;\n",
       "    }\n",
       "\n",
       "    .dataframe thead th {\n",
       "        text-align: right;\n",
       "    }\n",
       "</style>\n",
       "<table border=\"1\" class=\"dataframe\">\n",
       "  <thead>\n",
       "    <tr style=\"text-align: right;\">\n",
       "      <th></th>\n",
       "      <th>Season</th>\n",
       "      <th>Episode</th>\n",
       "      <th>Title</th>\n",
       "      <th>Rating</th>\n",
       "      <th>U.S. viewers (million)</th>\n",
       "    </tr>\n",
       "  </thead>\n",
       "  <tbody>\n",
       "    <tr>\n",
       "      <th>228</th>\n",
       "      <td>10</td>\n",
       "      <td>17</td>\n",
       "      <td>The Last One</td>\n",
       "      <td>29.8</td>\n",
       "      <td>52.46</td>\n",
       "    </tr>\n",
       "  </tbody>\n",
       "</table>\n",
       "</div>"
      ],
      "text/plain": [
       "     Season  Episode         Title  Rating  U.S. viewers (million)\n",
       "228      10       17  The Last One    29.8                   52.46"
      ]
     },
     "execution_count": 570,
     "metadata": {},
     "output_type": "execute_result"
    }
   ],
   "source": [
    "friends_df[friends_df['Rating'] == friends_df['Rating'].max()][['Season', 'Episode', 'Title', 'Rating', 'U.S. viewers (million)']]\n"
   ]
  }
 ],
 "metadata": {
  "kernelspec": {
   "display_name": "Python 3.9.9 64-bit ('data')",
   "language": "python",
   "name": "python3"
  },
  "language_info": {
   "codemirror_mode": {
    "name": "ipython",
    "version": 3
   },
   "file_extension": ".py",
   "mimetype": "text/x-python",
   "name": "python",
   "nbconvert_exporter": "python",
   "pygments_lexer": "ipython3",
   "version": "3.9.9"
  },
  "orig_nbformat": 4,
  "vscode": {
   "interpreter": {
    "hash": "1fb7eb58f33be4ed19126b5c3b82ce8a5869477d4d5f31a9e9902407fe5e8247"
   }
  }
 },
 "nbformat": 4,
 "nbformat_minor": 2
}
